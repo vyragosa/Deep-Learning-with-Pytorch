{
  "nbformat": 4,
  "nbformat_minor": 0,
  "metadata": {
    "colab": {
      "provenance": [],
      "collapsed_sections": [
        "bsayZPkCiBJv"
      ],
      "authorship_tag": "ABX9TyOzV9bcBVbX0D2i98aZf7A9",
      "include_colab_link": true
    },
    "kernelspec": {
      "name": "python3",
      "display_name": "Python 3"
    },
    "language_info": {
      "name": "python"
    }
  },
  "cells": [
    {
      "cell_type": "markdown",
      "metadata": {
        "id": "view-in-github",
        "colab_type": "text"
      },
      "source": [
        "<a href=\"https://colab.research.google.com/github/vyragosa/Deep-Learning-with-Pytorch/blob/main/Lesson2/Homework2.ipynb\" target=\"_parent\"><img src=\"https://colab.research.google.com/assets/colab-badge.svg\" alt=\"Open In Colab\"/></a>"
      ]
    },
    {
      "cell_type": "code",
      "execution_count": null,
      "metadata": {
        "id": "Lu1dpltohpb0"
      },
      "outputs": [],
      "source": [
        "import torch"
      ]
    },
    {
      "cell_type": "markdown",
      "source": [
        "# Домашняя + практическая работа 2"
      ],
      "metadata": {
        "id": "lTeEBs2bh6iR"
      }
    },
    {
      "cell_type": "markdown",
      "source": [
        "## Задание. \n",
        "\n",
        "Реализуйте backward для Polynomial 0.5 * (5 * input ** 3 - 3 * input)"
      ],
      "metadata": {
        "id": "bsayZPkCiBJv"
      }
    },
    {
      "cell_type": "code",
      "source": [
        "import math\n",
        "import numpy as np\n",
        "import matplotlib.pyplot as plt\n",
        "%matplotlib inline\n",
        "\n",
        "from torch.autograd import Function"
      ],
      "metadata": {
        "id": "xgrH3vvnjanM"
      },
      "execution_count": null,
      "outputs": []
    },
    {
      "cell_type": "code",
      "source": [
        "def show_tensor_params(*tensors):\n",
        "  for x in tensors:\n",
        "    print('---')\n",
        "    print(f\"data - {x.data}\")\n",
        "    print(f\"grad - {x.grad}\")\n",
        "    print(f\"grad_fn - {x.grad_fn}\")\n",
        "    print(f\"req_grad - {x.requires_grad}\")\n",
        "    print(f\"is_leaf - {x.is_leaf}\")"
      ],
      "metadata": {
        "id": "ASpORIs5jQO8"
      },
      "execution_count": null,
      "outputs": []
    },
    {
      "cell_type": "code",
      "source": [
        "import torch\n",
        "\n",
        "\n",
        "class Polynomial(torch.autograd.Function):\n",
        "    \"\"\"\n",
        "    We can implement our own custom autograd Functions by subclassing\n",
        "    torch.autograd.Function and implementing the forward and backward passes\n",
        "    which operate on Tensors.\n",
        "    \"\"\"\n",
        "\n",
        "    @staticmethod\n",
        "    def forward(ctx, input):\n",
        "        \"\"\"\n",
        "        In the forward pass we receive a Tensor containing the input and return\n",
        "        a Tensor containing the output. ctx is a context object that can be used\n",
        "        to stash information for backward computation. You can cache arbitrary\n",
        "        objects for use in the backward pass using the ctx.save_for_backward method.\n",
        "        \"\"\"\n",
        "        ctx.save_for_backward(input)\n",
        "        return 0.5 * (5 * input ** 3 - 3 * input)\n",
        "\n",
        "    @staticmethod\n",
        "    def backward(ctx, grad_output):\n",
        "        \"\"\"\n",
        "        In the backward pass we receive a Tensor containing the gradient of the loss\n",
        "        with respect to the output, and we need to compute the gradient of the loss\n",
        "        with respect to the input.\n",
        "        \"\"\"\n",
        "        input, = ctx.saved_tensors\n",
        "        return (7.5 * input ** 2 - 1.5) * grad_output"
      ],
      "metadata": {
        "id": "MW21DYh_iAdz"
      },
      "execution_count": null,
      "outputs": []
    },
    {
      "cell_type": "code",
      "source": [
        "input = torch.tensor(1., requires_grad=True)\n",
        "output = Polynomial.apply(input)\n",
        "output"
      ],
      "metadata": {
        "colab": {
          "base_uri": "https://localhost:8080/"
        },
        "id": "vKtCADwti0p8",
        "outputId": "3737a6a7-25d8-4fea-a7d2-c5cde8526c8a"
      },
      "execution_count": null,
      "outputs": [
        {
          "output_type": "execute_result",
          "data": {
            "text/plain": [
              "tensor(1., grad_fn=<PolynomialBackward>)"
            ]
          },
          "metadata": {},
          "execution_count": 17
        }
      ]
    },
    {
      "cell_type": "code",
      "source": [
        "xs = np.arange(-5, 5, 0.25)\n",
        "ys = Polynomial.apply(xs)\n",
        "plt.plot(xs, ys)"
      ],
      "metadata": {
        "colab": {
          "base_uri": "https://localhost:8080/",
          "height": 282
        },
        "id": "D9k8PGmei66N",
        "outputId": "95a34222-97ff-4806-fffc-2fb9f9cd786e"
      },
      "execution_count": null,
      "outputs": [
        {
          "output_type": "execute_result",
          "data": {
            "text/plain": [
              "[<matplotlib.lines.Line2D at 0x7fd549315910>]"
            ]
          },
          "metadata": {},
          "execution_count": 18
        },
        {
          "output_type": "display_data",
          "data": {
            "text/plain": [
              "<Figure size 432x288 with 1 Axes>"
            ],
            "image/png": "[encoded data removed]"
          },
          "metadata": {
            "needs_background": "light"
          }
        }
      ]
    },
    {
      "cell_type": "code",
      "source": [
        "output.backward()\n",
        "show_tensor_params(output)\n",
        "x = show_tensor_params(input)\n",
        "x"
      ],
      "metadata": {
        "colab": {
          "base_uri": "https://localhost:8080/"
        },
        "id": "gps2Rfypi8Xl",
        "outputId": "aed28b85-f982-4413-cd78-5363dd4df4b3"
      },
      "execution_count": null,
      "outputs": [
        {
          "output_type": "stream",
          "name": "stdout",
          "text": [
            "---\n",
            "data - 1.0\n",
            "grad - None\n",
            "grad_fn - <torch.autograd.function.PolynomialBackward object at 0x7fd549c698b0>\n",
            "req_grad - True\n",
            "is_leaf - False\n",
            "---\n",
            "data - 1.0\n",
            "grad - 6.0\n",
            "grad_fn - None\n",
            "req_grad - True\n",
            "is_leaf - True\n"
          ]
        },
        {
          "output_type": "stream",
          "name": "stderr",
          "text": [
            "<ipython-input-15-168b1ceafb31>:5: UserWarning: The .grad attribute of a Tensor that is not a leaf Tensor is being accessed. Its .grad attribute won't be populated during autograd.backward(). If you indeed want the .grad field to be populated for a non-leaf Tensor, use .retain_grad() on the non-leaf Tensor. If you access the non-leaf Tensor by mistake, make sure you access the leaf Tensor instead. See github.com/pytorch/pytorch/pull/30531 for more informations. (Triggered internally at aten/src/ATen/core/TensorBody.h:480.)\n",
            "  print(f\"grad - {x.grad}\")\n"
          ]
        }
      ]
    },
    {
      "cell_type": "markdown",
      "source": [
        "## Создание собственной библиотеки автоматического дифференцирования\n",
        "\n",
        "Написать собственный движок автоматического дифференцирования."
      ],
      "metadata": {
        "id": "GAzquTeYjpog"
      }
    },
    {
      "cell_type": "code",
      "source": [
        "class Value:\n",
        "\t\"\"\" stores a single scalar value and its gradient \"\"\"\n",
        "\n",
        "\tdef __init__(self, data, _children=(), _op=''):\n",
        "\t\tself.data = data\n",
        "\t\tself.grad = 0\n",
        "\t\t# internal variables used for autograd graph construction\n",
        "\t\tself._backward = lambda: None  # function\n",
        "\t\tself._prev = set(_children)  # set of Value objects\n",
        "\t\tself._op = _op  # the op that produced this node, string ('+', '-', ....)\n",
        "\n",
        "\tdef __add__(self, other):\n",
        "\t\tother = other if isinstance(other, Value) else Value(other)\n",
        "\t\tout = Value(self.data + other.data, (self, other), '+')\n",
        "\n",
        "\t\tdef _backward():\n",
        "\t\t\tself.grad += out.grad\n",
        "\t\t\tother.grad += out.grad\n",
        "\n",
        "\t\tout._backward = _backward\n",
        "\n",
        "\t\treturn out\n",
        "\n",
        "\tdef __mul__(self, other):\n",
        "\t\tother = other if isinstance(other, Value) else Value(other)\n",
        "\t\tout = Value(self.data * other.data, (self, other), '*')\n",
        "\n",
        "\t\tdef _backward():\n",
        "\t\t\tself.grad += other.data * out.grad\n",
        "\t\t\tother.grad += self.data * out.grad\n",
        "\n",
        "\t\tout._backward = _backward\n",
        "\n",
        "\t\treturn out\n",
        "\n",
        "\tdef __pow__(self, other):\n",
        "\t\tassert isinstance(other, (int, float)), \"only supporting int/float powers for now\"\n",
        "\t\tout = Value(self.data ** other, (self,), f'**{other}')\n",
        "\n",
        "\t\tdef _backward():\n",
        "\t\t\tself.grad += other * self.data ** (other - 1) * out.grad\n",
        "\n",
        "\t\tout._backward = _backward\n",
        "\n",
        "\t\treturn out\n",
        "\n",
        "\tdef relu(self):\n",
        "\t\tout = Value(self.data if self.data > 0 else 0, (self,), 'relu')\n",
        "\n",
        "\t\tdef _backward():\n",
        "\t\t\tself.grad += out.grad if self.data > 0 else 0\n",
        "\n",
        "\t\tout._backward = _backward\n",
        "\n",
        "\t\treturn out\n",
        "\n",
        "\tdef backward(self):\n",
        "\n",
        "\t\t# topological order all of the children in the graph\n",
        "\t\ttopo = []\n",
        "\t\tvisited = set()\n",
        "\n",
        "\t\tdef build_topo(v):\n",
        "\t\t\tif v not in visited:\n",
        "\t\t\t\tvisited.add(v)\n",
        "\t\t\t\tfor child in v._prev:\n",
        "\t\t\t\t\tbuild_topo(child)\n",
        "\t\t\t\ttopo.append(v)\n",
        "\n",
        "\t\tbuild_topo(self)\n",
        "\n",
        "\t\t# go one variable at a time and apply the chain rule to get its gradient\n",
        "\t\tself.grad = 1\n",
        "\t\tfor v in reversed(topo):\n",
        "\t\t\tv._backward()\n",
        "\n",
        "\tdef __neg__(self):  # -self\n",
        "\t\treturn self * -1\n",
        "\n",
        "\tdef __radd__(self, other):  # other + self\n",
        "\t\treturn self + other\n",
        "\n",
        "\tdef __sub__(self, other):  # self - other\n",
        "\t\treturn self + (-other)\n",
        "\n",
        "\tdef __rsub__(self, other):  # other - self\n",
        "\t\treturn other + (-self)\n",
        "\n",
        "\tdef __rmul__(self, other):  # other * self\n",
        "\t\treturn self * other\n",
        "\n",
        "\tdef __truediv__(self, other):  # self / other\n",
        "\t\treturn self * other ** -1\n",
        "\n",
        "\tdef __rtruediv__(self, other):  # other / self\n",
        "\t\treturn other * self ** -1\n",
        "\n",
        "\tdef __repr__(self):\n",
        "\t\treturn f\"Value(data={self.data}, grad={self.grad})\"\n"
      ],
      "metadata": {
        "id": "eLh9iFLnj37E"
      },
      "execution_count": null,
      "outputs": []
    },
    {
      "cell_type": "code",
      "source": [
        "def test_sanity_check():\n",
        "\n",
        "    x = Value(-4.0)\n",
        "    z = 2 * x + 2 + x\n",
        "  \n",
        "    q = z.relu() + z * x\n",
        "    h = (z * z).relu()\n",
        "    y = h + q + q * x\n",
        "    y.backward()\n",
        "    xmg, ymg = x, y\n",
        "\n",
        "    x = torch.Tensor([-4.0]).double()\n",
        "    x.requires_grad = True\n",
        "    z = 2 * x + 2 + x\n",
        "    q = z.relu() + z * x\n",
        "    h = (z * z).relu()\n",
        "    y = h + q + q * x\n",
        "    y.backward()\n",
        "    xpt, ypt = x, y\n",
        "\n",
        "    \n",
        "    # forward pass went well\n",
        "    assert ymg.data == ypt.data.item()\n",
        "    # backward pass went well\n",
        "    # print(xmg, xpt, xpt.grad)\n",
        "    assert xmg.grad == xpt.grad.item()\n",
        "    print(\"test_sanity_check passed\")\n",
        "\n",
        "def test_more_ops():\n",
        "\n",
        "    a = Value(-4.0)\n",
        "    b = Value(2.0)\n",
        "    c = a + b\n",
        "    d = a * b + b**3\n",
        "    c += c + 1\n",
        "    c += 1 + c + (-a)\n",
        "    d += d * 2 + (b + a).relu()\n",
        "    d += 3 * d + (b - a).relu()\n",
        "    e = c - d\n",
        "    f = e**2\n",
        "    g = f / 2.0\n",
        "    g += 10.0 / f\n",
        "    g.backward()\n",
        "    amg, bmg, gmg = a, b, g\n",
        "\n",
        "    a = torch.Tensor([-4.0]).double()\n",
        "    b = torch.Tensor([2.0]).double()\n",
        "    a.requires_grad = True\n",
        "    b.requires_grad = True\n",
        "    c = a + b\n",
        "    d = a * b + b**3\n",
        "    c = c + c + 1\n",
        "    c = c + 1 + c + (-a)\n",
        "    d = d + d * 2 + (b + a).relu()\n",
        "    d = d + 3 * d + (b - a).relu()\n",
        "    e = c - d\n",
        "    f = e**2\n",
        "    g = f / 2.0\n",
        "    g = g + 10.0 / f\n",
        "    g.backward()\n",
        "    apt, bpt, gpt = a, b, g\n",
        "\n",
        "    tol = 1e-6\n",
        "    # forward pass went well\n",
        "    assert abs(gmg.data - gpt.data.item()) < tol\n",
        "    # backward pass went well\n",
        "    assert abs(amg.grad - apt.grad.item()) < tol\n",
        "    assert abs(bmg.grad - bpt.grad.item()) < tol\n",
        "    print(\"test_more_ops passed\")"
      ],
      "metadata": {
        "id": "O7KEFnIbkCqM"
      },
      "execution_count": null,
      "outputs": []
    },
    {
      "cell_type": "code",
      "source": [
        "a = Value(-4.0)\n",
        "b = Value(2.0)\n",
        "d = Value(3.0)"
      ],
      "metadata": {
        "id": "Wejdng6gkDgI"
      },
      "execution_count": null,
      "outputs": []
    },
    {
      "cell_type": "code",
      "source": [
        "c = a + b\n",
        "e = c * d\n",
        "e.backward()"
      ],
      "metadata": {
        "id": "TnCW3WdnkG5e"
      },
      "execution_count": null,
      "outputs": []
    },
    {
      "cell_type": "code",
      "source": [
        "test_sanity_check()"
      ],
      "metadata": {
        "colab": {
          "base_uri": "https://localhost:8080/"
        },
        "id": "OPuOdAKwkJC4",
        "outputId": "ef1c528f-110a-4685-a171-225ec7e3bcc9"
      },
      "execution_count": null,
      "outputs": [
        {
          "output_type": "stream",
          "name": "stdout",
          "text": [
            "test_sanity_check passed\n"
          ]
        }
      ]
    },
    {
      "cell_type": "code",
      "source": [
        "test_more_ops()"
      ],
      "metadata": {
        "colab": {
          "base_uri": "https://localhost:8080/"
        },
        "id": "t05eMSjJkLt5",
        "outputId": "5e569c10-ef95-4ba0-bd94-9f330f598cd1"
      },
      "execution_count": null,
      "outputs": [
        {
          "output_type": "stream",
          "name": "stdout",
          "text": [
            "test_more_ops passed\n"
          ]
        }
      ]
    },
    {
      "cell_type": "markdown",
      "source": [
        "## Обучение на основе собственной бибилотеки"
      ],
      "metadata": {
        "id": "nJ5OMkSunfU5"
      }
    },
    {
      "cell_type": "markdown",
      "source": [
        "### Многослойный перцептрон на основе класса Value"
      ],
      "metadata": {
        "id": "buJ78OXEnmQX"
      }
    },
    {
      "cell_type": "code",
      "source": [
        "import random\n",
        "\n",
        "\n",
        "class Module:\n",
        "\n",
        "\tdef zero_grad(self):\n",
        "\t\tfor p in self.parameters():\n",
        "\t\t\tp.grad = 0\n",
        "\n",
        "\tdef parameters(self):\n",
        "\t\treturn []\n",
        "\n",
        "\n",
        "class Neuron(Module):\n",
        "\n",
        "\tdef __init__(self, nin, nonlin=True):\n",
        "\t\tself.w = [Value(random.random()) for _ in range(nin)]\n",
        "\t\tself.b = Value(random.random())\n",
        "\t\tself.nonlin = nonlin\n",
        "\n",
        "\tdef __call__(self, x):\n",
        "\t\tact = sum(w * xi for w, xi in zip(self.w, x)) + self.b\n",
        "\t\treturn act.relu() if self.nonlin else act\n",
        "\n",
        "\tdef parameters(self):\n",
        "\t\treturn self.w + [self.b]\n",
        "\n",
        "\tdef __repr__(self):\n",
        "\t\treturn f\"{'ReLU' if self.nonlin else 'Linear'}Neuron({len(self.w)})\"\n",
        "\n",
        "\n",
        "class Layer(Module):\n",
        "\n",
        "\tdef __init__(self, nin, nout, **kwargs):\n",
        "\t\tself.neurons = [Neuron(nin, **kwargs) for _ in range(nout)]\n",
        "\n",
        "\tdef __call__(self, x):\n",
        "\t\tout = [n(x) for n in self.neurons]\n",
        "\t\treturn out[0] if len(out) == 1 else out\n",
        "\n",
        "\tdef parameters(self):\n",
        "\t\treturn [p for n in self.neurons for p in n.parameters()]\n",
        "\n",
        "\tdef __repr__(self):\n",
        "\t\treturn f\"Layer of [{', '.join(str(n) for n in self.neurons)}]\"\n",
        "\n",
        "\n",
        "class MLP(Module):\n",
        "\n",
        "\tdef __init__(self, nin, nouts):\n",
        "\t\tsz = [nin] + nouts\n",
        "\t\tself.layers = [Layer(sz[i], sz[i + 1], nonlin=(i != len(nouts) - 1)) for i in range(len(nouts))]\n",
        "\n",
        "\tdef __call__(self, x):\n",
        "\t\tfor layer in self.layers:\n",
        "\t\t\tx = layer(x)\n",
        "\t\treturn x\n",
        "\n",
        "\tdef parameters(self):\n",
        "\t\treturn [p for layer in self.layers for p in layer.parameters()]\n",
        "\n",
        "\tdef __repr__(self):\n",
        "\t\trepr = '\\n'.join(str(layer) for layer in self.layers)\n",
        "\t\treturn f\"MLP of [{repr}]\"\n"
      ],
      "metadata": {
        "id": "_7u-AVmGnpE8"
      },
      "execution_count": null,
      "outputs": []
    },
    {
      "cell_type": "markdown",
      "source": [
        "### Обучение многослойного перцептрона"
      ],
      "metadata": {
        "id": "iUQ2WUsInxaG"
      }
    },
    {
      "cell_type": "markdown",
      "source": [
        "Cам перцептрон"
      ],
      "metadata": {
        "id": "2nx8jKXWn5A_"
      }
    },
    {
      "cell_type": "code",
      "source": [
        "model = MLP(3, [4, 4, 1])\n",
        "print(model)\n",
        "print(\"number of parameters\", len(model.parameters()))"
      ],
      "metadata": {
        "colab": {
          "base_uri": "https://localhost:8080/"
        },
        "id": "fxtoi5Rrn8OK",
        "outputId": "4d625575-4dbc-4481-cc9a-04ef5954a3f0"
      },
      "execution_count": null,
      "outputs": [
        {
          "output_type": "stream",
          "name": "stdout",
          "text": [
            "MLP of [Layer of [ReLUNeuron(3), ReLUNeuron(3), ReLUNeuron(3), ReLUNeuron(3)]\n",
            "Layer of [ReLUNeuron(4), ReLUNeuron(4), ReLUNeuron(4), ReLUNeuron(4)]\n",
            "Layer of [LinearNeuron(4)]]\n",
            "number of parameters 41\n"
          ]
        }
      ]
    },
    {
      "cell_type": "code",
      "source": [
        "xs = [\n",
        "  [2.0, 3.0, -1.0],\n",
        "  [3.0, -1.0, 0.5],\n",
        "  [0.5, 1.0, 1.0],\n",
        "  [1.0, 1.0, -1.0],\n",
        "]\n",
        "ys = [1.0, -1.0, -1.0, 1.0] # desired targets"
      ],
      "metadata": {
        "id": "a-ZJmM3soTTy"
      },
      "execution_count": null,
      "outputs": []
    },
    {
      "cell_type": "code",
      "source": [
        "for k in range(50):\n",
        "\n",
        "\t# forward\n",
        "\tloss = 0\n",
        "\tfor x, y in zip(xs, ys):\n",
        "\t\ty_hat = model(x)\n",
        "\t\tloss += (y_hat - y) ** 2\n",
        "\n",
        "\t# backward\n",
        "\tmodel.zero_grad()\n",
        "\tloss.backward()\n",
        "\n",
        "\tfor p in model.parameters():\n",
        "\t\tp.data -= 0.01 * p.grad\n",
        "\tprint(f\"loss = {loss.data:.3f}\")\n"
      ],
      "metadata": {
        "id": "fCLq8JjAoY4L"
      },
      "execution_count": null,
      "outputs": []
    }
  ]
}