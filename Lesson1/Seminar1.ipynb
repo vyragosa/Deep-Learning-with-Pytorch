{
  "nbformat": 4,
  "nbformat_minor": 0,
  "metadata": {
    "colab": {
      "provenance": [],
      "toc_visible": true,
      "authorship_tag": "ABX9TyO5C1AbL/tG/1uOMVZfQfna",
      "include_colab_link": true
    },
    "kernelspec": {
      "name": "python3",
      "display_name": "Python 3"
    },
    "language_info": {
      "name": "python"
    },
    "accelerator": "GPU",
    "gpuClass": "standard"
  },
  "cells": [
    {
      "cell_type": "markdown",
      "metadata": {
        "id": "view-in-github",
        "colab_type": "text"
      },
      "source": [
        "<a href=\"https://colab.research.google.com/github/vyragosa/Deep-Learning-with-Pytorch/blob/main/Homework1/Seminar1.ipynb\" target=\"_parent\"><img src=\"https://colab.research.google.com/assets/colab-badge.svg\" alt=\"Open In Colab\"/></a>"
      ]
    },
    {
      "cell_type": "code",
      "source": [
        "import torch"
      ],
      "metadata": {
        "id": "PkO4eCGdFy0I"
      },
      "execution_count": 39,
      "outputs": []
    },
    {
      "cell_type": "markdown",
      "source": [
        "# Задача 2. Cделать нейрон, соответствующий оператору НЕ."
      ],
      "metadata": {
        "id": "nxEwvGSlFrcU"
      }
    },
    {
      "cell_type": "code",
      "execution_count": 40,
      "metadata": {
        "id": "yllalV3aCPVF"
      },
      "outputs": [],
      "source": [
        "class Neuron(torch.nn.Module):\n",
        "\tdef __init__(self):\n",
        "\t\tsuper().__init__()\n",
        "\t\tself.fc = torch.nn.Linear(1, 1)\n",
        "\n",
        "\tdef forward(self, x):\n",
        "\t\treturn torch.heaviside(self.fc(x), torch.tensor([0.]))"
      ]
    },
    {
      "cell_type": "code",
      "source": [
        "neuron = Neuron()\n",
        "neuron.fc.weight, neuron.fc.bias"
      ],
      "metadata": {
        "colab": {
          "base_uri": "https://localhost:8080/"
        },
        "id": "sczKzYUhHDUF",
        "outputId": "523c5a5f-e484-41cc-d612-353cbe69941b"
      },
      "execution_count": 41,
      "outputs": [
        {
          "output_type": "execute_result",
          "data": {
            "text/plain": [
              "(Parameter containing:\n",
              " tensor([[-0.5958]], requires_grad=True), Parameter containing:\n",
              " tensor([-0.4020], requires_grad=True))"
            ]
          },
          "metadata": {},
          "execution_count": 41
        }
      ]
    },
    {
      "cell_type": "code",
      "source": [
        "neuron.fc.weight.data = torch.tensor([[-1.]])\n",
        "neuron.fc.bias.data = torch.tensor([1.])"
      ],
      "metadata": {
        "id": "AWIVjGupGRxE"
      },
      "execution_count": 42,
      "outputs": []
    },
    {
      "cell_type": "code",
      "source": [
        "x = torch.tensor([[0.],\n",
        "                  [1.],])\n",
        "neuron(x)"
      ],
      "metadata": {
        "colab": {
          "base_uri": "https://localhost:8080/"
        },
        "id": "CVQ8lOs8GUYJ",
        "outputId": "d521b131-8e32-4cc8-cf16-effe4527a0b1"
      },
      "execution_count": 45,
      "outputs": [
        {
          "output_type": "execute_result",
          "data": {
            "text/plain": [
              "tensor([[1.],\n",
              "        [0.]], grad_fn=<NotImplemented>)"
            ]
          },
          "metadata": {},
          "execution_count": 45
        }
      ]
    },
    {
      "cell_type": "markdown",
      "source": [
        "# Задача 3. Cделать нейрон, соответствующий оператору И."
      ],
      "metadata": {
        "id": "qZwY3BeTGxn7"
      }
    },
    {
      "cell_type": "code",
      "source": [
        "class Neuron(torch.nn.Module):\n",
        "  def __init__(self):\n",
        "    super().__init__()\n",
        "    self.fc = torch.nn.Linear(2, 1)\n",
        "\n",
        "  def forward(self, x):\n",
        "    return torch.heaviside(self.fc(x), torch.tensor([0.]))"
      ],
      "metadata": {
        "id": "IQAIjC6rG9Js"
      },
      "execution_count": 9,
      "outputs": []
    },
    {
      "cell_type": "code",
      "source": [
        "neuron = Neuron()\n",
        "neuron.fc.weight, neuron.fc.bias"
      ],
      "metadata": {
        "colab": {
          "base_uri": "https://localhost:8080/"
        },
        "id": "-_1FxCCLHOxF",
        "outputId": "338d5c49-d1b8-4c5e-c98e-b655fec720de"
      },
      "execution_count": 10,
      "outputs": [
        {
          "output_type": "execute_result",
          "data": {
            "text/plain": [
              "(Parameter containing:\n",
              " tensor([[-0.1682, -0.1875]], requires_grad=True), Parameter containing:\n",
              " tensor([-0.0911], requires_grad=True))"
            ]
          },
          "metadata": {},
          "execution_count": 10
        }
      ]
    },
    {
      "cell_type": "code",
      "source": [
        "neuron.fc.weight.data = torch.tensor([[1., 1.]])\n",
        "neuron.fc.bias.data = torch.tensor([-1.])"
      ],
      "metadata": {
        "id": "KZpUA-uVHQMC"
      },
      "execution_count": 11,
      "outputs": []
    },
    {
      "cell_type": "code",
      "source": [
        "x = torch.tensor([[0., 0.],\n",
        "                  [0., 1.],\n",
        "                  [1., 0.],\n",
        "                  [1., 1.],])\n",
        "neuron(x)"
      ],
      "metadata": {
        "colab": {
          "base_uri": "https://localhost:8080/"
        },
        "id": "vNw1P8rVHSkX",
        "outputId": "99189176-0bc8-4788-d404-150677945d72"
      },
      "execution_count": 13,
      "outputs": [
        {
          "output_type": "execute_result",
          "data": {
            "text/plain": [
              "tensor([[0.],\n",
              "        [0.],\n",
              "        [0.],\n",
              "        [1.]], grad_fn=<NotImplemented>)"
            ]
          },
          "metadata": {},
          "execution_count": 13
        }
      ]
    },
    {
      "cell_type": "markdown",
      "source": [
        "# Задача 4. Cделать нейрон, соответствующий оператору ИЛИ."
      ],
      "metadata": {
        "id": "HbQ2w8upIWxk"
      }
    },
    {
      "cell_type": "code",
      "source": [
        "class Neuron(torch.nn.Module):\n",
        "  def __init__(self):\n",
        "    super().__init__()\n",
        "    self.fc = torch.nn.Linear(2, 1)\n",
        "\n",
        "  def forward(self, x):\n",
        "    return torch.heaviside(self.fc(x), torch.tensor([0.]))"
      ],
      "metadata": {
        "id": "ofvmYpH8I8cb"
      },
      "execution_count": 14,
      "outputs": []
    },
    {
      "cell_type": "code",
      "source": [
        "neuron = Neuron()\n",
        "neuron.fc.weight, neuron.fc.bias"
      ],
      "metadata": {
        "colab": {
          "base_uri": "https://localhost:8080/"
        },
        "id": "qhaPimS-I_7Y",
        "outputId": "143df4e8-7837-4fa4-b67d-a8167e1b7bfc"
      },
      "execution_count": 15,
      "outputs": [
        {
          "output_type": "execute_result",
          "data": {
            "text/plain": [
              "(Parameter containing:\n",
              " tensor([[0.4567, 0.1658]], requires_grad=True), Parameter containing:\n",
              " tensor([-0.0649], requires_grad=True))"
            ]
          },
          "metadata": {},
          "execution_count": 15
        }
      ]
    },
    {
      "cell_type": "code",
      "source": [],
      "metadata": {
        "id": "ag26I24fNWHX"
      },
      "execution_count": null,
      "outputs": []
    },
    {
      "cell_type": "code",
      "source": [
        "neuron.fc.weight.data = torch.tensor([[1., 1.]])\n",
        "neuron.fc.bias.data = torch.tensor([0.])"
      ],
      "metadata": {
        "id": "ONydJv1BJBfW"
      },
      "execution_count": 16,
      "outputs": []
    },
    {
      "cell_type": "code",
      "source": [
        "x = torch.tensor([[0., 0.],\n",
        "                  [0., 1.],\n",
        "                  [1., 0.],\n",
        "                  [1., 1.],])\n",
        "neuron(x)"
      ],
      "metadata": {
        "colab": {
          "base_uri": "https://localhost:8080/"
        },
        "id": "eOtfVdjtJO86",
        "outputId": "349e67ee-cd75-4559-f6cb-80a93dde1d8f"
      },
      "execution_count": 17,
      "outputs": [
        {
          "output_type": "execute_result",
          "data": {
            "text/plain": [
              "tensor([[0.],\n",
              "        [1.],\n",
              "        [1.],\n",
              "        [1.]], grad_fn=<NotImplemented>)"
            ]
          },
          "metadata": {},
          "execution_count": 17
        }
      ]
    },
    {
      "cell_type": "markdown",
      "source": [
        "# Задача 5. Cделать нейрон, соответствующий оператору XOR."
      ],
      "metadata": {
        "id": "M3EdKU4XJz7E"
      }
    },
    {
      "cell_type": "code",
      "source": [
        "class Neuron(torch.nn.Module):\n",
        "  def __init__(self):\n",
        "    super().__init__()\n",
        "    self.fc = torch.nn.Linear(2, 1)\n",
        "\n",
        "  def forward(self, x):\n",
        "    return torch.heaviside(self.fc(x), torch.tensor([0.]))"
      ],
      "metadata": {
        "id": "6EMunVpIJ26L"
      },
      "execution_count": 18,
      "outputs": []
    },
    {
      "cell_type": "code",
      "source": [
        "neuron1 = Neuron()\n",
        "neuron1.fc.weight.data = torch.tensor([[1., -1.]])\n",
        "neuron1.fc.bias.data = torch.tensor([0.])"
      ],
      "metadata": {
        "id": "tiNE4hlxKF_3"
      },
      "execution_count": 27,
      "outputs": []
    },
    {
      "cell_type": "code",
      "source": [
        "neuron2 = Neuron()\n",
        "neuron2.fc.weight.data = torch.tensor([[-1., 1.]])\n",
        "neuron2.fc.bias.data = torch.tensor([0.])"
      ],
      "metadata": {
        "id": "Qy9FSrM0KwvW"
      },
      "execution_count": 28,
      "outputs": []
    },
    {
      "cell_type": "code",
      "source": [
        "neuron3 = Neuron()\n",
        "neuron3.fc.weight.data = torch.tensor([[1., 1.]])\n",
        "neuron3.fc.bias.data = torch.tensor([0.])"
      ],
      "metadata": {
        "id": "yTqEq6M_KICY"
      },
      "execution_count": 29,
      "outputs": []
    },
    {
      "cell_type": "code",
      "source": [
        "x = torch.tensor([[0., 0.],\n",
        "                  [0., 1.],\n",
        "                  [1., 0.],\n",
        "                  [1., 1.],])\n",
        "\n",
        "neuron3(torch.cat((neuron1(x), neuron2(x)), 1))"
      ],
      "metadata": {
        "colab": {
          "base_uri": "https://localhost:8080/"
        },
        "id": "MsNPukxSKJqO",
        "outputId": "b5df0a75-6a4d-427c-8ce6-499f785d47b4"
      },
      "execution_count": 37,
      "outputs": [
        {
          "output_type": "execute_result",
          "data": {
            "text/plain": [
              "tensor([[0.],\n",
              "        [1.],\n",
              "        [1.],\n",
              "        [0.]], grad_fn=<NotImplemented>)"
            ]
          },
          "metadata": {},
          "execution_count": 37
        }
      ]
    }
  ]
}